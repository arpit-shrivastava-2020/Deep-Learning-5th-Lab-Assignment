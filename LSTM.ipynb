{
  "nbformat": 4,
  "nbformat_minor": 0,
  "metadata": {
    "accelerator": "GPU",
    "colab": {
      "name": "LSTM.ipynb",
      "provenance": []
    },
    "kernelspec": {
      "display_name": "Python 3",
      "name": "python3"
    },
    "language_info": {
      "name": "python"
    }
  },
  "cells": [
    {
      "cell_type": "code",
      "metadata": {
        "id": "tY3tx828z-PY"
      },
      "source": [
        "#GitHub Link:https://github.com/arpit-shrivastava-2020/Deep-Learning-5th-Lab-Assignment.git"
      ],
      "execution_count": null,
      "outputs": []
    },
    {
      "cell_type": "code",
      "metadata": {
        "id": "E5aUSjquiS1c"
      },
      "source": [
        "import math\n",
        "import numpy as np\n",
        "import pandas as pd\n",
        "from sklearn.preprocessing import MinMaxScaler\n",
        "from keras.models import Sequential\n",
        "from keras.layers import Dense, LSTM\n",
        "import matplotlib.pyplot as plt\n",
        "plt.style.use('fivethirtyeight')"
      ],
      "execution_count": 1,
      "outputs": []
    },
    {
      "cell_type": "code",
      "metadata": {
        "colab": {
          "base_uri": "https://localhost:8080/"
        },
        "id": "X1vHZPGbjMN1",
        "outputId": "ca898daf-dad3-47c3-9be4-1c98aeac4688"
      },
      "source": [
        "features = (np.random.randint(10, size=(100, 1)))\n",
        "print(features.shape)"
      ],
      "execution_count": 2,
      "outputs": [
        {
          "output_type": "stream",
          "text": [
            "(100, 1)\n"
          ],
          "name": "stdout"
        }
      ]
    },
    {
      "cell_type": "code",
      "metadata": {
        "colab": {
          "base_uri": "https://localhost:8080/"
        },
        "id": "l85qIzLUjUhQ",
        "outputId": "a9a34603-96ef-400a-9a27-9f38dec24ef1"
      },
      "source": [
        "training_dataset_length = math.ceil(len(features) * .75)\n",
        "print(training_dataset_length)"
      ],
      "execution_count": 3,
      "outputs": [
        {
          "output_type": "stream",
          "text": [
            "75\n"
          ],
          "name": "stdout"
        }
      ]
    },
    {
      "cell_type": "code",
      "metadata": {
        "id": "5Pv2kM6AjYI4"
      },
      "source": [
        "scaler = MinMaxScaler(feature_range=(0, 1)) \n",
        "scaled_data = scaler.fit_transform(features)"
      ],
      "execution_count": 4,
      "outputs": []
    },
    {
      "cell_type": "code",
      "metadata": {
        "id": "LLLjwjH3jcY1"
      },
      "source": [
        "train_data = scaled_data[0:training_dataset_length  , : ]\n",
        "x_train=[]\n",
        "y_train = []\n",
        "\n",
        "for i in range(10, len(train_data)):\n",
        "    x_train.append(train_data[i-10:i,0])\n",
        "    y_train.append(train_data[i,0])\n"
      ],
      "execution_count": 5,
      "outputs": []
    },
    {
      "cell_type": "code",
      "metadata": {
        "id": "7LYHISdhjfb7"
      },
      "source": [
        "x_train, y_train = np.array(x_train), np.array(y_train)\n",
        "x_train = np.reshape(x_train, (x_train.shape[0],x_train.shape[1],1))\n"
      ],
      "execution_count": 6,
      "outputs": []
    },
    {
      "cell_type": "code",
      "metadata": {
        "id": "WsqzF6sIjhq7"
      },
      "source": [
        "from keras.layers import Dropout\n",
        "model = Sequential()\n",
        "\n",
        "model.add(LSTM(units = 50, return_sequences = True, input_shape = (x_train.shape[1], 1)))\n",
        "model.add(Dropout(0.2))\n",
        "model.add(LSTM(units = 50, return_sequences = True))\n",
        "model.add(Dropout(0.2))\n",
        "model.add(LSTM(units = 50, return_sequences = True))\n",
        "model.add(Dropout(0.2))\n",
        "model.add(LSTM(units = 50))\n",
        "model.add(Dropout(0.2))\n",
        "model.add(Dense(units = 1))\n"
      ],
      "execution_count": 7,
      "outputs": []
    },
    {
      "cell_type": "code",
      "metadata": {
        "colab": {
          "base_uri": "https://localhost:8080/"
        },
        "id": "DHWH5c1-jkME",
        "outputId": "8e605455-d1db-4275-bd97-c25c40aa4364"
      },
      "source": [
        "model.compile(optimizer = 'adam', loss = 'mean_squared_error')\n",
        "model.fit(x_train, y_train, epochs = 30, batch_size = 50)"
      ],
      "execution_count": 8,
      "outputs": [
        {
          "output_type": "stream",
          "text": [
            "Epoch 1/30\n",
            "2/2 [==============================] - 7s 22ms/step - loss: 0.3135\n",
            "Epoch 2/30\n",
            "2/2 [==============================] - 0s 22ms/step - loss: 0.2698\n",
            "Epoch 3/30\n",
            "2/2 [==============================] - 0s 23ms/step - loss: 0.2049\n",
            "Epoch 4/30\n",
            "2/2 [==============================] - 0s 23ms/step - loss: 0.1493\n",
            "Epoch 5/30\n",
            "2/2 [==============================] - 0s 23ms/step - loss: 0.0906\n",
            "Epoch 6/30\n",
            "2/2 [==============================] - 0s 19ms/step - loss: 0.1085\n",
            "Epoch 7/30\n",
            "2/2 [==============================] - 0s 21ms/step - loss: 0.1233\n",
            "Epoch 8/30\n",
            "2/2 [==============================] - 0s 22ms/step - loss: 0.1106\n",
            "Epoch 9/30\n",
            "2/2 [==============================] - 0s 16ms/step - loss: 0.0886\n",
            "Epoch 10/30\n",
            "2/2 [==============================] - 0s 20ms/step - loss: 0.0891\n",
            "Epoch 11/30\n",
            "2/2 [==============================] - 0s 20ms/step - loss: 0.0880\n",
            "Epoch 12/30\n",
            "2/2 [==============================] - 0s 21ms/step - loss: 0.0939\n",
            "Epoch 13/30\n",
            "2/2 [==============================] - 0s 23ms/step - loss: 0.0921\n",
            "Epoch 14/30\n",
            "2/2 [==============================] - 0s 24ms/step - loss: 0.0895\n",
            "Epoch 15/30\n",
            "2/2 [==============================] - 0s 21ms/step - loss: 0.0860\n",
            "Epoch 16/30\n",
            "2/2 [==============================] - 0s 21ms/step - loss: 0.0908\n",
            "Epoch 17/30\n",
            "2/2 [==============================] - 0s 24ms/step - loss: 0.0831\n",
            "Epoch 18/30\n",
            "2/2 [==============================] - 0s 22ms/step - loss: 0.0867\n",
            "Epoch 19/30\n",
            "2/2 [==============================] - 0s 21ms/step - loss: 0.0803\n",
            "Epoch 20/30\n",
            "2/2 [==============================] - 0s 21ms/step - loss: 0.0803\n",
            "Epoch 21/30\n",
            "2/2 [==============================] - 0s 23ms/step - loss: 0.0850\n",
            "Epoch 22/30\n",
            "2/2 [==============================] - 0s 23ms/step - loss: 0.0853\n",
            "Epoch 23/30\n",
            "2/2 [==============================] - 0s 23ms/step - loss: 0.0883\n",
            "Epoch 24/30\n",
            "2/2 [==============================] - 0s 18ms/step - loss: 0.0840\n",
            "Epoch 25/30\n",
            "2/2 [==============================] - 0s 19ms/step - loss: 0.0874\n",
            "Epoch 26/30\n",
            "2/2 [==============================] - 0s 22ms/step - loss: 0.0850\n",
            "Epoch 27/30\n",
            "2/2 [==============================] - 0s 21ms/step - loss: 0.0847\n",
            "Epoch 28/30\n",
            "2/2 [==============================] - 0s 23ms/step - loss: 0.0809\n",
            "Epoch 29/30\n",
            "2/2 [==============================] - 0s 22ms/step - loss: 0.0855\n",
            "Epoch 30/30\n",
            "2/2 [==============================] - 0s 23ms/step - loss: 0.0825\n"
          ],
          "name": "stdout"
        },
        {
          "output_type": "execute_result",
          "data": {
            "text/plain": [
              "<tensorflow.python.keras.callbacks.History at 0x7fbac0099c90>"
            ]
          },
          "metadata": {
            "tags": []
          },
          "execution_count": 8
        }
      ]
    },
    {
      "cell_type": "code",
      "metadata": {
        "id": "Co7apFrYjmtk"
      },
      "source": [
        "test_data = scaled_data[training_dataset_length - 10: , : ]\n",
        "x_test = []\n",
        "y_test =  features[training_dataset_length : , : ] \n",
        "\n",
        "for i in range(10,len(test_data)):\n",
        "    x_test.append(test_data[i-10:i,0])\n",
        "x_test = np.array(x_test)\n",
        "x_test = np.reshape(x_test, (x_test.shape[0],x_test.shape[1],1))"
      ],
      "execution_count": 9,
      "outputs": []
    },
    {
      "cell_type": "code",
      "metadata": {
        "colab": {
          "base_uri": "https://localhost:8080/"
        },
        "id": "uI-cPMKhjxfD",
        "outputId": "b65f7887-97d7-49a2-ea52-82c2129cd5c3"
      },
      "source": [
        "predictions = model.predict(x_test) \n",
        "predictions = scaler.inverse_transform(predictions)\n",
        "rmse=np.sqrt(np.mean(((predictions- y_test)**2)))\n",
        "rmse"
      ],
      "execution_count": 10,
      "outputs": [
        {
          "output_type": "execute_result",
          "data": {
            "text/plain": [
              "2.6972201636691473"
            ]
          },
          "metadata": {
            "tags": []
          },
          "execution_count": 10
        }
      ]
    }
  ]
}